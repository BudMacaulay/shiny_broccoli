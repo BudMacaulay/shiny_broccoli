{
 "cells": [
  {
   "cell_type": "code",
   "execution_count": 1,
   "metadata": {},
   "outputs": [],
   "source": [
    "import plotly.figure_factory as ff\n",
    "import numpy as np\n",
    "import plotly.express as px\n",
    "from IPython.display import HTML"
   ]
  },
  {
   "cell_type": "code",
   "execution_count": 2,
   "metadata": {},
   "outputs": [
    {
     "data": {
      "text/html": [
       "<script>\n",
       "code_show=true; \n",
       "function code_toggle() {\n",
       " if (code_show){\n",
       " $('div.input').hide();\n",
       " } else {\n",
       " $('div.input').show();\n",
       " }\n",
       " code_show = !code_show\n",
       "} \n",
       "$( document ).ready(code_toggle);\n",
       "</script>\n",
       "The raw code for this IPython notebook is by default hidden for easier reading.\n",
       "To toggle on/off the raw code, click <a href=\"javascript:code_toggle()\">here</a>."
      ],
      "text/plain": [
       "<IPython.core.display.HTML object>"
      ]
     },
     "execution_count": 2,
     "metadata": {},
     "output_type": "execute_result"
    }
   ],
   "source": [
    "HTML('''<script>\n",
    "code_show=true; \n",
    "function code_toggle() {\n",
    " if (code_show){\n",
    " $('div.input').hide();\n",
    " } else {\n",
    " $('div.input').show();\n",
    " }\n",
    " code_show = !code_show\n",
    "} \n",
    "$( document ).ready(code_toggle);\n",
    "</script>\n",
    "The raw code for this IPython notebook is by default hidden for easier reading.\n",
    "To toggle on/off the raw code, click <a href=\"javascript:code_toggle()\">here</a>.''')"
   ]
  },
  {
   "cell_type": "markdown",
   "metadata": {},
   "source": [
    "# The 001 Surface\n",
    "\n",
    "Because i'm an idiot, i've accidently done the 110 surface instead of the 001 surface. I'm a dinlo. Will now get to submitting jobs on the 001 surface with some interesting caveats on how to surface terminate said structures.\n",
    "\n",
    "\n",
    "The 001 surface is the secondary surface modelled under vasp. The surface is that cleaved parallel to the layers within the layered Metal oxide structure (THIS IS NOT CORRECT! I STUPIDILY DID THE 110 INSTEAD OF THE 001!).  Cleavage through pymatgen ensuring surface symmetry, substitutions are done using pymatgen structure package and a crappy bit of iterative code i wrote.\n",
    "\n",
    "\n",
    "Interestingly the 001 surface is a finnicky one largely because the stiochemtric slab is unsymmetric. As a result it was decided to move half he lithium sites to the other side of the slab to result in a unpolarised and symmetric slab! Images can eb seen below:\n",
    "\n",
    "<center>\n",
    "    <figure>\n",
    "        <img src=\"images/001unmoved.PNG\" alt=\"drawing\" width=\"500\">\n",
    "        <figcaption>The initial cut slab of the 001 surface</figcaption>\n",
    "    </figure>\n",
    "</center>\n",
    "<center>\n",
    "    <figure>\n",
    "        <img src=\"images/001moved.PNG\" alt=\"drawing\" width=\"500\"/>\n",
    "        <figcaption>Cut 001 slab with half Li sites moved</figcaption>\n",
    "    </figure>\n",
    "</center>\n",
    "\n",
    "This should allow said system to converge swiftly and without agregious errors. :)\n",
    "\n",
    "- I've submitted the simple set of data @ 1pm on Thursday, here's hoping no crashes!"
   ]
  },
  {
   "cell_type": "code",
   "execution_count": null,
   "metadata": {},
   "outputs": [],
   "source": []
  }
 ],
 "metadata": {
  "kernelspec": {
   "display_name": "Python 3",
   "language": "python",
   "name": "python3"
  },
  "language_info": {
   "codemirror_mode": {
    "name": "ipython",
    "version": 3
   },
   "file_extension": ".py",
   "mimetype": "text/x-python",
   "name": "python",
   "nbconvert_exporter": "python",
   "pygments_lexer": "ipython3",
   "version": "3.7.6"
  }
 },
 "nbformat": 4,
 "nbformat_minor": 4
}
